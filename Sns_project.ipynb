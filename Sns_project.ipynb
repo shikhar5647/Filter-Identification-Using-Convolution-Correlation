{
  "nbformat": 4,
  "nbformat_minor": 0,
  "metadata": {
    "colab": {
      "provenance": []
    },
    "kernelspec": {
      "name": "python3",
      "display_name": "Python 3"
    },
    "language_info": {
      "name": "python"
    }
  },
  "cells": [
    {
      "cell_type": "code",
      "execution_count": 1,
      "metadata": {
        "id": "bJI7Puh8ySXs"
      },
      "outputs": [],
      "source": [
        "import numpy as np\n",
        "import scipy.signal"
      ]
    },
    {
      "cell_type": "code",
      "source": [
        "# Function to read input signal from file\n",
        "def read_signal(file_path):\n",
        "    with open(file_path, 'r') as file:\n",
        "        signal = [float(line.strip()) for line in file.readlines()]\n",
        "    return signal\n"
      ],
      "metadata": {
        "id": "rWBnwUouy5XQ"
      },
      "execution_count": 2,
      "outputs": []
    },
    {
      "cell_type": "code",
      "source": [
        "def low_pass_filter(signal, cutoff_freq, sampling_freq):\n",
        "    nyquist_freq = 0.5 * sampling_freq\n",
        "    norm_cutoff_freq = cutoff_freq / nyquist_freq\n",
        "    b, a = scipy.signal.butter(4, norm_cutoff_freq, btype='low')\n",
        "    filtered_signal = scipy.signal.lfilter(b, a, signal)\n",
        "    return filtered_signal\n",
        "\n",
        "# Function to implement high-pass filter\n",
        "def high_pass_filter(signal, cutoff_freq, sampling_freq):\n",
        "    nyquist_freq = 0.5 * sampling_freq\n",
        "    norm_cutoff_freq = cutoff_freq / nyquist_freq\n",
        "    b, a = scipy.signal.butter(4, norm_cutoff_freq, btype='high')\n",
        "    filtered_signal = scipy.signal.lfilter(b, a, signal)\n",
        "    return filtered_signal\n",
        "\n",
        "# Function to implement band-pass filter\n",
        "def band_pass_filter(signal, low_cutoff_freq, high_cutoff_freq, sampling_freq):\n",
        "    nyquist_freq = 0.5 * sampling_freq\n",
        "    norm_low_cutoff_freq = low_cutoff_freq / nyquist_freq\n",
        "    norm_high_cutoff_freq = high_cutoff_freq / nyquist_freq\n",
        "    b, a = scipy.signal.butter(4, [norm_low_cutoff_freq, norm_high_cutoff_freq], btype='band')\n",
        "    filtered_signal = scipy.signal.lfilter(b, a, signal)\n",
        "    return filtered_signal\n",
        "\n",
        "# Function to calculate correlation between two signals\n",
        "def calculate_correlation(signal1, signal2):\n",
        "    correlation = np.correlate(signal1, signal2, mode='full')\n",
        "    return correlation"
      ],
      "metadata": {
        "id": "TFzu678fdLVW"
      },
      "execution_count": 3,
      "outputs": []
    },
    {
      "cell_type": "code",
      "source": [
        "input_signal = read_signal(\"/content/INPUT-SIGNAL-X(t).txt\")\n",
        "output_signal = read_signal(\"/content/OUTPUT-SIGNAL-Y(t).txt\")"
      ],
      "metadata": {
        "id": "6Ly317YidSrO"
      },
      "execution_count": 4,
      "outputs": []
    },
    {
      "cell_type": "code",
      "source": [
        "# Define the cutoff frequency and sampling frequency\n",
        "cutoff_freq = 1000  # Replace with the actual cutoff frequency in Hz\n",
        "sampling_freq = 5000  # Replace with the actual sampling frequency in Hz\n"
      ],
      "metadata": {
        "id": "HTyS9kQAdl33"
      },
      "execution_count": 6,
      "outputs": []
    },
    {
      "cell_type": "code",
      "source": [
        "filtered_low_pass = low_pass_filter(input_signal, cutoff_freq, sampling_freq)"
      ],
      "metadata": {
        "id": "vAi9kEeGdbTm"
      },
      "execution_count": 7,
      "outputs": []
    },
    {
      "cell_type": "code",
      "source": [
        "# Define the low and high cutoff frequencies for band-pass filter\n",
        "low_cutoff_freq = 100  # Replace with the actual low cutoff frequency in Hz\n",
        "high_cutoff_freq = 1000  # Replace with the actual high cutoff frequency in Hz\n"
      ],
      "metadata": {
        "id": "vuWUZGW-dwhm"
      },
      "execution_count": 9,
      "outputs": []
    },
    {
      "cell_type": "code",
      "source": [
        "# Filter input signal using high-pass filter\n",
        "filtered_high_pass = high_pass_filter(input_signal, cutoff_freq, sampling_freq)\n",
        "\n",
        "# Filter input signal using band-pass filter\n",
        "filtered_band_pass = band_pass_filter(input_signal, low_cutoff_freq, high_cutoff_freq, sampling_freq)\n"
      ],
      "metadata": {
        "id": "fzzZ-wn6denl"
      },
      "execution_count": 10,
      "outputs": []
    },
    {
      "cell_type": "code",
      "source": [
        "# Calculate correlation between filtered signals and output signal\n",
        "correlation_low_pass = calculate_correlation(filtered_low_pass, output_signal)\n",
        "correlation_high_pass = calculate_correlation(filtered_high_pass, output_signal)\n",
        "correlation_band_pass = calculate_correlation(filtered_band_pass, output_signal)\n"
      ],
      "metadata": {
        "id": "JPx6zpr2drgN"
      },
      "execution_count": 11,
      "outputs": []
    },
    {
      "cell_type": "code",
      "source": [
        "best_filter = np.argmax([correlation_low_pass.max(), correlation_high_pass.max(), correlation_band_pass.max()])\n",
        "\n",
        "# Print the result\n",
        "if best_filter == 0:\n",
        "    print(\"The best match is the Low Pass Filter.\")\n",
        "elif best_filter == 1:\n",
        "    print(\"The best match is the High Pass Filter.\")\n",
        "else:\n",
        "    print(\"The best match is the Band Pass Filter.\")"
      ],
      "metadata": {
        "colab": {
          "base_uri": "https://localhost:8080/"
        },
        "id": "n-Lewjcwd21F",
        "outputId": "b848fda1-6a60-4849-dcd6-7231dfaf1d4e"
      },
      "execution_count": 12,
      "outputs": [
        {
          "output_type": "stream",
          "name": "stdout",
          "text": [
            "The best match is the Low Pass Filter.\n"
          ]
        }
      ]
    },
    {
      "cell_type": "code",
      "source": [],
      "metadata": {
        "id": "FcwtCsSPeLSv"
      },
      "execution_count": null,
      "outputs": []
    }
  ]
}